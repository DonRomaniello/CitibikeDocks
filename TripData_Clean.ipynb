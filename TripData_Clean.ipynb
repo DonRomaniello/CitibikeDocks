{
  "nbformat": 4,
  "nbformat_minor": 0,
  "metadata": {
    "colab": {
      "name": "TripData - Clean.ipynb",
      "provenance": [],
      "collapsed_sections": [],
      "mount_file_id": "1_ILc1EPLa_EjwOPwW1uuxX1FWOt-xhES",
      "authorship_tag": "ABX9TyM1EWA2MY0ZuslHCmolUik8",
      "include_colab_link": true
    },
    "kernelspec": {
      "name": "python3",
      "display_name": "Python 3"
    },
    "language_info": {
      "name": "python"
    }
  },
  "cells": [
    {
      "cell_type": "markdown",
      "metadata": {
        "id": "view-in-github",
        "colab_type": "text"
      },
      "source": [
        "<a href=\"https://colab.research.google.com/github/DonRomaniello/CitibikeDocks/blob/master/TripData_Clean.ipynb\" target=\"_parent\"><img src=\"https://colab.research.google.com/assets/colab-badge.svg\" alt=\"Open In Colab\"/></a>"
      ]
    },
    {
      "cell_type": "code",
      "metadata": {
        "id": "0TPDuWXApJYt",
        "colab": {
          "base_uri": "https://localhost:8080/"
        },
        "outputId": "d08d8af3-976b-43fd-c1b1-30b1fa25c430"
      },
      "source": [
        "!pip install boto3\n",
        "\n",
        "import boto3\n",
        "from botocore import UNSIGNED\n",
        "from botocore.client import Config\n",
        "import requests\n",
        "import pandas as pd\n",
        "from io import BytesIO\n",
        "from zipfile import ZipFile\n",
        "from google.colab import drive"
      ],
      "execution_count": null,
      "outputs": [
        {
          "output_type": "stream",
          "name": "stdout",
          "text": [
            "Requirement already satisfied: boto3 in /usr/local/lib/python3.7/dist-packages (1.18.46)\n",
            "Requirement already satisfied: jmespath<1.0.0,>=0.7.1 in /usr/local/lib/python3.7/dist-packages (from boto3) (0.10.0)\n",
            "Requirement already satisfied: botocore<1.22.0,>=1.21.46 in /usr/local/lib/python3.7/dist-packages (from boto3) (1.21.46)\n",
            "Requirement already satisfied: s3transfer<0.6.0,>=0.5.0 in /usr/local/lib/python3.7/dist-packages (from boto3) (0.5.0)\n",
            "Requirement already satisfied: urllib3<1.27,>=1.25.4 in /usr/local/lib/python3.7/dist-packages (from botocore<1.22.0,>=1.21.46->boto3) (1.26.7)\n",
            "Requirement already satisfied: python-dateutil<3.0.0,>=2.1 in /usr/local/lib/python3.7/dist-packages (from botocore<1.22.0,>=1.21.46->boto3) (2.8.2)\n",
            "Requirement already satisfied: six>=1.5 in /usr/local/lib/python3.7/dist-packages (from python-dateutil<3.0.0,>=2.1->botocore<1.22.0,>=1.21.46->boto3) (1.15.0)\n"
          ]
        },
        {
          "output_type": "stream",
          "name": "stderr",
          "text": [
            "/usr/local/lib/python3.7/dist-packages/requests/__init__.py:91: RequestsDependencyWarning: urllib3 (1.26.7) or chardet (3.0.4) doesn't match a supported version!\n",
            "  RequestsDependencyWarning)\n"
          ]
        }
      ]
    },
    {
      "cell_type": "code",
      "metadata": {
        "colab": {
          "base_uri": "https://localhost:8080/"
        },
        "id": "WA4VILvAOrMG",
        "outputId": "47cc5458-65f2-4f7b-fc8a-a0768e916c70"
      },
      "source": [
        "from google.colab import drive\n",
        "drive.mount('/content/drive')"
      ],
      "execution_count": null,
      "outputs": [
        {
          "output_type": "stream",
          "name": "stdout",
          "text": [
            "Mounted at /content/drive\n"
          ]
        }
      ]
    },
    {
      "cell_type": "code",
      "metadata": {
        "id": "9WfuK40xEvq8"
      },
      "source": [
        "def readDirtyZip(dirtyZipUrl):\n",
        "  dirtyZipFilename = requests.get(dirtyZipUrl).content\n",
        "  dirtyZipFile = ZipFile( BytesIO(dirtyZipFilename), 'r')\n",
        "  \n",
        "  tripData = pd.read_csv(dirtyZipFile.open([cleanFilename for cleanFilename in dirtyZipFile.namelist() if \"._\" not in cleanFilename and \".csv\" in cleanFilename][0]), low_memory=False)\n",
        "  \n",
        "  return tripData"
      ],
      "execution_count": null,
      "outputs": []
    },
    {
      "cell_type": "code",
      "metadata": {
        "id": "smbZ-BJtu8Fu"
      },
      "source": [
        "def legacyCheckFix(s3URL):\n",
        "  legacyTrips = readDirtyZip(s3URL)\n",
        "\n",
        "  if 'start station id' in legacyTrips.columns:\n",
        "    legacyTrips['start station id'] = legacyTrips['start station id'].map(stationNameDictionary)\n",
        "    legacyTrips['end station id'] = legacyTrips['end station id'].map(stationNameDictionary)\n",
        "\n",
        "    legacyTrips.rename(columns=legacyColumnRename, inplace=True)\n",
        "  \n",
        "  legacyTrips = legacyTrips[legacyColumnRename.values()]\n",
        "  legacyTrips.dropna(inplace=True)\n",
        "  return legacyTrips"
      ],
      "execution_count": null,
      "outputs": []
    },
    {
      "cell_type": "code",
      "metadata": {
        "id": "MqjvCtlqaf7a"
      },
      "source": [
        "class fileListUrls:\n",
        "\n",
        "  def __init__(self, startMonth, startYear, endMonth, endYear):\n",
        "    self.startMonth = startMonth\n",
        "    self.startYear = startYear\n",
        "    self.endMonth = endMonth\n",
        "    self.endYear = endYear\n",
        "\n",
        "  def tripURLs(self):\n",
        "    tripURLs = []\n",
        "    monthRange = pd.date_range((str(self.startYear) + '-' + str(self.startMonth)),\n",
        "                               (str(self.endYear) + '-' + str(self.endMonth)) ,\n",
        "                               freq='MS').strftime(\"%Y%m\").tolist()\n",
        "                               \n",
        "    for dictName in s3.list_objects(Bucket='tripdata')['Contents']:\n",
        "      for month in monthRange:\n",
        "        if dictName['Key'].startswith(month):\n",
        "          tripURLs.append('https://s3.amazonaws.com/tripdata/' + dictName['Key'])\n",
        "          monthRange.remove(month)\n",
        "  \n",
        "    tripURLs.reverse()\n",
        "    return tripURLs\n",
        "\n",
        "  def nameForCsv(self):\n",
        "    nameForCsv = '/drive/MyDrive/' + str(self.startYear) + str(self.startMonth).zfill(2) + '-' + str(self.endYear) + str(self.endMonth).zfill(2) + '.csv'\n",
        "    return nameForCsv"
      ],
      "execution_count": null,
      "outputs": []
    },
    {
      "cell_type": "code",
      "metadata": {
        "id": "QCHD7z9OE0N1"
      },
      "source": [
        "stationLocationsRequest = requests.get('https://gbfs.citibikenyc.com/gbfs/en/station_information.json')\n",
        "stationLocationData = stationLocationsRequest.json()\n",
        "stationLocations = pd.DataFrame(stationLocationData['data']['stations'])\n",
        "stationNameDictionary = dict(zip(stationLocations[stationLocations['short_name'].str.contains('[a-zA-Z]+', regex=True)==False].legacy_id.astype('int64'), stationLocations[stationLocations['short_name'].str.contains('[a-zA-Z]+', regex=True)==False].short_name))\n",
        "\n",
        "del stationLocationsRequest, stationLocationData, stationLocations"
      ],
      "execution_count": null,
      "outputs": []
    },
    {
      "cell_type": "code",
      "metadata": {
        "id": "em_5fjBPHhgK",
        "colab": {
          "base_uri": "https://localhost:8080/"
        },
        "outputId": "9629e8d4-39e6-4642-8800-31398da2d4dc"
      },
      "source": [
        "legacyColumnRename = dict({'starttime': 'started_at',\n",
        "                           'stoptime': 'ended_at',\n",
        "                           'start station id': 'start_station_id',\n",
        "                           'end station id': 'end_station_id'})\n",
        "\n",
        "s3 = boto3.client('s3', config=Config(signature_version=UNSIGNED))\n",
        "\n",
        "drive.mount('/drive')"
      ],
      "execution_count": null,
      "outputs": [
        {
          "output_type": "stream",
          "name": "stdout",
          "text": [
            "Mounted at /drive\n"
          ]
        }
      ]
    },
    {
      "cell_type": "code",
      "metadata": {
        "colab": {
          "base_uri": "https://localhost:8080/"
        },
        "id": "HPtr93XWQpwP",
        "outputId": "3d077d74-8eb7-4180-ec97-d3159005eea3"
      },
      "source": [
        "urlRange = fileListUrls(input(\"Start month (integer): \"),\n",
        "                        input(\"Start year: \"),\n",
        "                        input(\"End month (integer, inclusive): \"),\n",
        "                        input(\"End year:\"))\n",
        "\n",
        "csvUrls = urlRange.tripURLs()\n",
        "\n",
        "headTrips = legacyCheckFix(csvUrls[0])\n",
        "\n",
        "for url in csvUrls[1:]:\n",
        "  tailTrips = legacyCheckFix(url)\n",
        "  print('concatenating', url)\n",
        "  headTrips = pd.concat([headTrips, tailTrips])\n",
        "\n",
        "headTrips.to_csv(urlRange.nameForCsv())"
      ],
      "execution_count": null,
      "outputs": [
        {
          "output_type": "stream",
          "name": "stdout",
          "text": [
            "Start month (integer): 1\n",
            "Start year: 2019\n",
            "End month (integer, inclusive): 6\n",
            "End year:2021\n",
            "concatenating https://s3.amazonaws.com/tripdata/202105-citibike-tripdata.csv.zip\n",
            "concatenating https://s3.amazonaws.com/tripdata/202104-citibike-tripdata.csv.zip\n",
            "concatenating https://s3.amazonaws.com/tripdata/202103-citibike-tripdata.csv.zip\n",
            "concatenating https://s3.amazonaws.com/tripdata/202102-citibike-tripdata.csv.zip\n",
            "concatenating https://s3.amazonaws.com/tripdata/202101-citibike-tripdata.csv.zip\n",
            "concatenating https://s3.amazonaws.com/tripdata/202012-citibike-tripdata.csv.zip\n",
            "concatenating https://s3.amazonaws.com/tripdata/202011-citibike-tripdata.csv.zip\n",
            "concatenating https://s3.amazonaws.com/tripdata/202010-citibike-tripdata.csv.zip\n",
            "concatenating https://s3.amazonaws.com/tripdata/202009-citibike-tripdata.csv.zip\n",
            "concatenating https://s3.amazonaws.com/tripdata/202008-citibike-tripdata.csv.zip\n",
            "concatenating https://s3.amazonaws.com/tripdata/202007-citibike-tripdata.csv.zip\n",
            "concatenating https://s3.amazonaws.com/tripdata/202006-citibike-tripdata.csv.zip\n",
            "concatenating https://s3.amazonaws.com/tripdata/202005-citibike-tripdata.csv.zip\n",
            "concatenating https://s3.amazonaws.com/tripdata/202004-citibike-tripdata.csv.zip\n",
            "concatenating https://s3.amazonaws.com/tripdata/202003-citibike-tripdata.csv.zip\n",
            "concatenating https://s3.amazonaws.com/tripdata/202002-citibike-tripdata.csv.zip\n",
            "concatenating https://s3.amazonaws.com/tripdata/202001-citibike-tripdata.csv.zip\n",
            "concatenating https://s3.amazonaws.com/tripdata/201912-citibike-tripdata.csv.zip\n",
            "concatenating https://s3.amazonaws.com/tripdata/201911-citibike-tripdata.csv.zip\n",
            "concatenating https://s3.amazonaws.com/tripdata/201910-citibike-tripdata.csv.zip\n",
            "concatenating https://s3.amazonaws.com/tripdata/201909-citibike-tripdata.csv.zip\n",
            "concatenating https://s3.amazonaws.com/tripdata/201908-citibike-tripdata.csv.zip\n",
            "concatenating https://s3.amazonaws.com/tripdata/201907-citibike-tripdata.csv.zip\n",
            "concatenating https://s3.amazonaws.com/tripdata/201906-citibike-tripdata.csv.zip\n",
            "concatenating https://s3.amazonaws.com/tripdata/201905-citibike-tripdata.csv.zip\n",
            "concatenating https://s3.amazonaws.com/tripdata/201904-citibike-tripdata.csv.zip\n",
            "concatenating https://s3.amazonaws.com/tripdata/201903-citibike-tripdata.csv.zip\n",
            "concatenating https://s3.amazonaws.com/tripdata/201902-citibike-tripdata.csv.zip\n",
            "concatenating https://s3.amazonaws.com/tripdata/201901-citibike-tripdata.csv.zip\n"
          ]
        }
      ]
    },
    {
      "cell_type": "code",
      "metadata": {
        "id": "sOQLetBfPDD1"
      },
      "source": [
        ""
      ],
      "execution_count": null,
      "outputs": []
    }
  ]
}