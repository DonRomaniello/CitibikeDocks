{
  "nbformat": 4,
  "nbformat_minor": 0,
  "metadata": {
    "colab": {
      "name": "TripData - Clean.ipynb",
      "provenance": [],
      "collapsed_sections": [],
      "mount_file_id": "1_ILc1EPLa_EjwOPwW1uuxX1FWOt-xhES",
      "authorship_tag": "ABX9TyOMp1nfBLtXVcxf9vgnhcJe",
      "include_colab_link": true
    },
    "kernelspec": {
      "name": "python3",
      "display_name": "Python 3"
    },
    "language_info": {
      "name": "python"
    }
  },
  "cells": [
    {
      "cell_type": "markdown",
      "metadata": {
        "id": "view-in-github",
        "colab_type": "text"
      },
      "source": [
        "<a href=\"https://colab.research.google.com/github/DonRomaniello/CitibikeDocks/blob/master/TripData_Clean.ipynb\" target=\"_parent\"><img src=\"https://colab.research.google.com/assets/colab-badge.svg\" alt=\"Open In Colab\"/></a>"
      ]
    },
    {
      "cell_type": "code",
      "metadata": {
        "id": "0TPDuWXApJYt"
      },
      "source": [
        "!pip install boto3\n",
        "\n",
        "import boto3\n",
        "from botocore import UNSIGNED\n",
        "from botocore.client import Config\n",
        "import requests\n",
        "import pandas as pd\n",
        "from io import BytesIO\n",
        "from zipfile import ZipFile\n",
        "from google.colab import drive"
      ],
      "execution_count": null,
      "outputs": []
    },
    {
      "cell_type": "markdown",
      "metadata": {
        "id": "fOzHBBc95ThL"
      },
      "source": [
        ""
      ]
    },
    {
      "cell_type": "code",
      "metadata": {
        "id": "9WfuK40xEvq8"
      },
      "source": [
        "def readDirtyZip(dirtyZipUrl):\n",
        "  dirtyZipFilename = requests.get(dirtyZipUrl).content\n",
        "  dirtyZipFile = ZipFile( BytesIO(dirtyZipFilename), 'r')\n",
        "  tripData = pd.read_csv(dirtyZipFile.open([cleanFilename for cleanFilename in dirtyZipFile.namelist() if \"._\" not in cleanFilename and \".csv\" in cleanFilename][0]), low_memory=False)\n",
        "  \n",
        "  return tripData"
      ],
      "execution_count": null,
      "outputs": []
    },
    {
      "cell_type": "code",
      "metadata": {
        "id": "smbZ-BJtu8Fu"
      },
      "source": [
        "def legacyCheckFix(s3URL):\n",
        "  legacyTrips = readDirtyZip(s3URL)\n",
        "\n",
        "  if 'start station id' in legacyTrips.columns:\n",
        "    legacyTrips['start station id'] = legacyTrips['start station id'].map(stationNameDictionary)\n",
        "    legacyTrips['end station id'] = legacyTrips['end station id'].map(stationNameDictionary)\n",
        "\n",
        "    legacyTrips.rename(columns=legacyColumnRename, inplace=True)\n",
        "  \n",
        "  legacyTrips = legacyTrips[legacyColumnRename.values()]\n",
        "  legacyTrips.dropna(inplace=True)\n",
        "  return legacyTrips"
      ],
      "execution_count": 1,
      "outputs": []
    },
    {
      "cell_type": "code",
      "metadata": {
        "id": "MqjvCtlqaf7a"
      },
      "source": [
        "class fileListUrls:\n",
        "\n",
        "  def __init__(self, startMonth, startYear, endMonth, endYear):\n",
        "    self.startMonth = startMonth\n",
        "    self.startYear = startYear\n",
        "    self.endMonth = endMonth\n",
        "    self.endYear = endYear\n",
        "\n",
        "  def tripURLs(self):\n",
        "    tripURLs = []\n",
        "    monthRange = pd.date_range((str(self.startYear) + '-' + str(self.startMonth)), (str(self.endYear) + '-' + str(self.endMonth)) , freq='MS').strftime(\"%Y%m\").tolist()\n",
        "    for dictName in s3.list_objects(Bucket='tripdata')['Contents']:\n",
        "      for month in monthRange:\n",
        "        if dictName['Key'].startswith(month):\n",
        "          tripURLs.append('https://s3.amazonaws.com/tripdata/' + dictName['Key'])\n",
        "          monthRange.remove(month)\n",
        "  \n",
        "    tripURLs.reverse()\n",
        "    return tripURLs\n",
        "\n",
        "  def nameForCsv(self):\n",
        "    nameForCsv = '/drive/MyDrive/' + str(self.startYear) + str(self.startMonth).zfill(2) + '-' + str(self.endYear) + str(self.endMonth).zfill(2) + 'csv.xz'\n",
        "    return nameForCsv"
      ],
      "execution_count": null,
      "outputs": []
    },
    {
      "cell_type": "code",
      "metadata": {
        "id": "QCHD7z9OE0N1"
      },
      "source": [
        "stationLocationsRequest = requests.get('https://gbfs.citibikenyc.com/gbfs/en/station_information.json')\n",
        "stationLocationData = stationLocationsRequest.json()\n",
        "stationLocations = pd.DataFrame(stationLocationData['data']['stations'])\n",
        "stationNameDictionary = dict(zip(stationLocations[stationLocations['short_name'].str.contains('[a-zA-Z]+', regex=True)==False].legacy_id.astype('int64'), stationLocations[stationLocations['short_name'].str.contains('[a-zA-Z]+', regex=True)==False].short_name))\n",
        "\n",
        "del stationLocationsRequest, stationLocationData, stationLocations"
      ],
      "execution_count": null,
      "outputs": []
    },
    {
      "cell_type": "code",
      "metadata": {
        "id": "em_5fjBPHhgK"
      },
      "source": [
        "legacyColumnRename = dict({'starttime': 'started_at', 'stoptime': 'ended_at', 'start station id': 'start_station_id', 'end station id': 'end_station_id'})\n",
        "\n",
        "s3 = boto3.client('s3', config=Config(signature_version=UNSIGNED))\n",
        "\n",
        "drive.mount('/drive')"
      ],
      "execution_count": null,
      "outputs": []
    },
    {
      "cell_type": "code",
      "metadata": {
        "colab": {
          "base_uri": "https://localhost:8080/"
        },
        "id": "HPtr93XWQpwP",
        "outputId": "8e33a465-8a5a-4e91-9bb7-d5feb13c96bc"
      },
      "source": [
        "urlRange = fileListUrls(input(\"Start month (integer): \"), input(\"Start year: \"), input(\"End month (integer, inclusive): \"), input(\"End year:\"))\n",
        "\n",
        "csvUrls = urlRange.tripURLs()\n",
        "\n",
        "hotTrips = legacyCheckFix(csvUrls[0])\n",
        "\n",
        "print(\"Writing first CSV...\")\n",
        "\n",
        "hotTrips.to_csv(urlRange.nameForCsv())\n",
        "\n",
        "del hotTrips\n",
        "\n",
        "for url in csvUrls[1:]:\n",
        "  hotTrips = legacyCheckFix(url)\n",
        "  print('Appending...')\n",
        "  hotTrips.to_csv(urlRange.nameForCsv(), mode='a', header=False)\n",
        "  del hotTrips"
      ],
      "execution_count": null,
      "outputs": [
        {
          "output_type": "stream",
          "name": "stdout",
          "text": [
            "Start month (integer): 2\n",
            "Start year: 2020\n",
            "End month (integer, inclusive): 4\n",
            "End year:2020\n",
            "Writing first CSV...\n",
            "Appending...\n",
            "Appending...\n"
          ]
        }
      ]
    }
  ]
}