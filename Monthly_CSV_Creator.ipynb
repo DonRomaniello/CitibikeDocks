{
  "nbformat": 4,
  "nbformat_minor": 0,
  "metadata": {
    "colab": {
      "name": "Monthly_CSV_Creator.ipynb",
      "provenance": [],
      "collapsed_sections": [],
      "authorship_tag": "ABX9TyOv9qQNg/jBVU6OOoFEh0Em",
      "include_colab_link": true
    },
    "kernelspec": {
      "name": "python3",
      "display_name": "Python 3"
    },
    "language_info": {
      "name": "python"
    }
  },
  "cells": [
    {
      "cell_type": "markdown",
      "metadata": {
        "id": "view-in-github",
        "colab_type": "text"
      },
      "source": [
        "<a href=\"https://colab.research.google.com/github/DonRomaniello/CitibikeDocks/blob/master/Monthly_CSV_Creator.ipynb\" target=\"_parent\"><img src=\"https://colab.research.google.com/assets/colab-badge.svg\" alt=\"Open In Colab\"/></a>"
      ]
    },
    {
      "cell_type": "code",
      "metadata": {
        "id": "4DgBQyItkQc9"
      },
      "source": [
        "import pandas as pd\n",
        "import time\n",
        "\n",
        "import os\n",
        "import tarfile\n",
        "\n",
        "import json"
      ],
      "execution_count": 1,
      "outputs": []
    },
    {
      "cell_type": "code",
      "metadata": {
        "id": "9Gma4YM1WQ0_",
        "colab": {
          "base_uri": "https://localhost:8080/"
        },
        "outputId": "a3fd084b-d6d2-408f-e45c-8534631b496c"
      },
      "source": [
        "#Set initial directory as the directory where the script is running.\n",
        "\n",
        "initial_directory = '.'\n",
        "os.chdir(initial_directory)\n",
        "print(\"Current working directory is\", os.getcwd())"
      ],
      "execution_count": 2,
      "outputs": [
        {
          "output_type": "stream",
          "name": "stdout",
          "text": [
            "Current working directory is /Users/donromaniello\n"
          ]
        }
      ]
    },
    {
      "cell_type": "code",
      "metadata": {
        "id": "EzYjBMQcNDAK"
      },
      "source": [
        "# Select directories\n",
        "\n",
        "directory_prompt_selection = 'none'\n",
        "\n",
        "while directory_prompt_selection != 'w':\n",
        "  current_directories = [d for d in os.listdir('.') if os.path.isdir(d)]\n",
        "\n",
        "  print(\"Current working directory is\", os.getcwd())\n",
        "\n",
        "  for directory in current_directories:\n",
        "\n",
        "    print(current_directories.index(directory), directory)\n",
        "\n",
        "  print(\"w\", \"We can use current directory\")\n",
        "  print(\"c\", \"Change top level directory\")\n",
        "  print(\"u\", \"Navigate up one level.\")\n",
        "  directory_prompt_selection = input(\"Choose an option:\")\n",
        "  print(\"\\n\")\n",
        "  \n",
        "  if directory_prompt_selection == 'c':\n",
        "    directory_prompt_selection = input('Provide either the relative or full path name of the directory')\n",
        "    os.chdir(directory_prompt_selection)\n",
        "  elif directory_prompt_selection == 'u':\n",
        "    os.chdir('../')\n",
        "  elif directory_prompt_selection == 'w':\n",
        "    None\n",
        "  else:\n",
        "    os.chdir(os.path.join('.', current_directories[int(directory_prompt_selection)]))\n",
        "\n",
        "print(\"Current working directory is\", os.getcwd())"
      ],
      "execution_count": null,
      "outputs": []
    },
    {
      "cell_type": "code",
      "metadata": {
        "id": "l6YSl2_mYemh"
      },
      "source": [
        "# Get rid of anything the operating system may add...\n",
        "files = ([x for x in sorted(filter(os.path.isfile,\n",
        "                                   os.listdir('.')),\n",
        "                                   key=os.path.getmtime) if x[-2:] == \"xz\"])\n",
        "\n",
        "files"
      ],
      "execution_count": null,
      "outputs": []
    },
    {
      "cell_type": "code",
      "metadata": {
        "id": "i5vmJgB4F8rY"
      },
      "source": [
        "stopwatch_start = time.time()\n",
        "stopwatch_hour = time.time()\n",
        "\n",
        "stations_big = pd.DataFrame()\n",
        "\n",
        "\n",
        "files_by_month = [x for x in sorted(filter(os.path.isfile,\n",
        "                                          os.listdir('.')),\n",
        "                                    key=os.path.getmtime) if x[-2:] == \"xz\"]\n",
        "\n",
        "\n",
        "hour = tarfile.open('./' + files_by_month[0])\n",
        "hour_list = hour.getnames()\n",
        "\n",
        "minute = 0\n",
        "minute_json = json.load(hour.extractfile(hour_list[minute]))\n",
        "timestamp = minute_json[\"last_updated\"]\n",
        "stations_tick = (pd.DataFrame(minute_json['data']['stations'])\n",
        "                [['station_id', 'num_docks_available']]\n",
        "                .rename(columns={'num_docks_available':timestamp})\n",
        "                .astype('int16')\n",
        "                .set_index('station_id')\n",
        "                .sort_index()[timestamp])\n",
        "\n",
        "minute+=1\n",
        "\n",
        "minute_json = json.load(hour.extractfile(hour_list[minute]))\n",
        "timestamp = minute_json[\"last_updated\"]\n",
        "stations_tock = (pd.DataFrame(minute_json['data']['stations'])\n",
        "                [['station_id', 'num_docks_available']]\n",
        "                .rename(columns={'num_docks_available':timestamp})\n",
        "                .astype('int16')\n",
        "                .set_index('station_id')\n",
        "                .sort_index()[timestamp])\n",
        "\n",
        "stations_tick = pd.concat([stations_tick, stations_tock], join=\"outer\", axis=1)\n",
        "\n",
        "minute+=1\n",
        "while minute < len(hour_list):\n",
        "  try:\n",
        "    minute_json = json.load(hour.extractfile(hour_list[minute]))\n",
        "    timestamp = minute_json[\"last_updated\"]\n",
        "\n",
        "    stations_tock = (pd.DataFrame(minute_json['data']['stations'])\n",
        "              [['station_id', 'num_docks_available']]\n",
        "              .rename(columns={'num_docks_available':timestamp})\n",
        "              .astype('int16')\n",
        "              .set_index('station_id')\n",
        "              .sort_index()[timestamp])\n",
        "\n",
        "    if stations_tick.index.equals(stations_tock.index):\n",
        "      stations_tick.insert((stations_tick.shape[1]), timestamp, stations_tock)\n",
        "    else:\n",
        "      stations_tick = pd.concat([stations_tick,stations_tock],\n",
        "                            join='outer',\n",
        "                            axis=1)\n",
        "\n",
        "    minute+=1\n",
        "  except json.JSONDecodeError:\n",
        "    minute+=1\n",
        "    print(stations_tick.shape)    \n",
        "\n",
        "print(time.time() - stopwatch_hour)\n",
        "stopwatch_hour = time.time()\n",
        "\n",
        "for hour_xz in files_by_month[1:]:\n",
        "  hour = tarfile.open('./' + hour_xz)\n",
        "  hour_list = hour.getnames()\n",
        "  minute=0\n",
        "\n",
        "  print(stations_tick.shape)    \n",
        "  print(time.time() - stopwatch_hour)\n",
        "  stopwatch_hour = time.time()\n",
        "\n",
        "  while minute < len(hour_list):\n",
        "    try:\n",
        "      minute_json = json.load(hour.extractfile(hour_list[minute]))\n",
        "      timestamp = minute_json[\"last_updated\"]\n",
        "\n",
        "      stations_tock = (pd.DataFrame(minute_json['data']['stations'])\n",
        "                [['station_id', 'num_docks_available']]\n",
        "                .rename(columns={'num_docks_available':timestamp})\n",
        "                .astype('int16')\n",
        "                .set_index('station_id')\n",
        "                .sort_index()[timestamp])\n",
        "\n",
        "      if stations_tick.index.equals(stations_tock.index):\n",
        "        stations_tick.insert((stations_tick.shape[1]), timestamp, stations_tock)\n",
        "      else:\n",
        "        stations_tick = pd.concat([stations_tick,stations_tock],\n",
        "                              join='outer',\n",
        "                              axis=1)\n",
        "\n",
        "      if stations_tick.shape[1] > 1440:\n",
        "        stations_big = pd.concat([stations_big, stations_tick], join='outer', axis=1)\n",
        "        stations_tick = pd.DataFrame(index=stations_tick.index)\n",
        "      else:\n",
        "        pass\n",
        "\n",
        "      minute+=1\n",
        "    except json.JSONDecodeError:\n",
        "      minute+=1\n",
        "\n",
        "\n",
        "\n",
        "stopwatch_end = time.time()\n",
        "print(stopwatch_end - stopwatch_start)"
      ],
      "execution_count": null,
      "outputs": []
    },
    {
      "cell_type": "code",
      "metadata": {
        "id": "TbYNjCBS8x_7"
      },
      "source": [
        "stations_big.to_csv(('./' + os.getcwd().split('/')[-1] + 'csv.gzip'))"
      ],
      "execution_count": 116,
      "outputs": []
    }
  ]
}